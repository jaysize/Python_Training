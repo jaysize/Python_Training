{
 "cells": [
  {
   "cell_type": "markdown",
   "metadata": {},
   "source": [
    "## Python Programming Project: Profitable App Data Profiling\n",
    "---"
   ]
  },
  {
   "cell_type": "markdown",
   "metadata": {},
   "source": [
    "### Description\n",
    "- This project is designed to demonstrate looping and data profiling skills gained from Dataquest.io training.  \n",
    "- The perspective taken is that of a company that develops Android and iOS apps for the Apple App Store.\n",
    "- GOAL: to understand the market for free apps, which is the business model of our ficticious company."
   ]
  },
  {
   "cell_type": "markdown",
   "metadata": {},
   "source": [
    "### Data\n",
    "This data set is from apps that were downloaded, how much they cost, and also ratings of users.  Other metrics are provided to understand how successful apps are across multiple systems.\n",
    "- The [source](https://www.kaggle.com/ramamet4/app-store-apple-data-set-10k-apps/data) of the Apple app data is from a Kaggle competition.\n",
    "- The [source](https://www.kaggle.com/lava18/google-play-store-apps) of the Android app data is from another Kaggle competition."
   ]
  },
  {
   "cell_type": "markdown",
   "metadata": {},
   "source": [
    "### Key \n",
    "\n",
    "| iOS Name | Android Name |Description |\n",
    "| ----------- | ----------- |---------------------- |\n",
    "| \"id\" | NA | App ID |\n",
    "| \"track_name\" |\"App\" |  App Name |\n",
    "| \"prime_genre\" | \"Category\" | Category the app belongs to |\n",
    "| \"size_bytes\" |\"Size\" | Size (in Bytes) |\n",
    "| \"currency\" | NA | Currency of price |\n",
    "| \"price\" |\"Price\" | Purchase price of the app |\n",
    "| \"rating_count_tot\" |\"Reviews\" | Total count of ratings |\n",
    "| \"user_rating\" |\"Rating\" | Average of user ratings |\n",
    "| \"cont_rating\" |\"Content Rating\" | Age group the app is targeted at |\n",
    "| \"rating_count_ver\" | NA | Count of current version ratings |\n",
    "| \"user_rating_ver\" | NA | Average user ratings for current version |\n",
    "| \"sup_devices.num\" | NA | Unknown |\n",
    "| \"ipadSc_urls.num\" | NA | Unknown |\n",
    "| \"lang.num\" | NA | Unknown |\n",
    "| \"vpp_lic\" | NA | Unknown |\n",
    "| NA | \"Genres\" | An app can belong to multiple genres (apart from its main category)|\n",
    "| NA | \"Installs\" | Number of user downloads/installs for the app (as when scraped) |\n",
    "| NA | \"Last Updated\" | Date when the app was last updated on Play Store (as when scraped) |\n",
    "| NA | \"Current Ver\" | Current version of the app available on Play Store (as when scraped) |\n",
    "| NA | \"Android Ver\" | Min required Android version (as when scraped) |"
   ]
  },
  {
   "cell_type": "code",
   "execution_count": 2,
   "metadata": {},
   "outputs": [],
   "source": [
    "from csv import reader"
   ]
  },
  {
   "cell_type": "code",
   "execution_count": 11,
   "metadata": {},
   "outputs": [],
   "source": [
    "apple_file = open('AppleStore.csv', encoding='utf8')\n",
    "android_file = open('googleplaystore.csv', encoding='utf8')\n",
    "read_apple_file = reader(apple_file)\n",
    "read_android_file = reader(android_file)\n",
    "\n",
    "ios = list(read_apple_file)\n",
    "ios_header = ios[0]\n",
    "ios = ios[1:]\n",
    "\n",
    "android = list(read_android_file)\n",
    "android_header = android[0]\n",
    "android = android[1:]"
   ]
  },
  {
   "cell_type": "code",
   "execution_count": 12,
   "metadata": {},
   "outputs": [],
   "source": [
    "def explore_data(dataset, start, end, rows_and_columns=False):\n",
    "    dataset_slice = dataset[start:end]    \n",
    "    for row in dataset_slice:\n",
    "        print(row)\n",
    "        print('\\n') # adds a new (empty) line after each row\n",
    "\n",
    "    if rows_and_columns:\n",
    "        print('Number of rows:', len(dataset))\n",
    "        print('Number of columns:', len(dataset[0]))"
   ]
  },
  {
   "cell_type": "code",
   "execution_count": 17,
   "metadata": {},
   "outputs": [
    {
     "name": "stdout",
     "output_type": "stream",
     "text": [
      "['', 'id', 'track_name', 'size_bytes', 'currency', 'price', 'rating_count_tot', 'rating_count_ver', 'user_rating', 'user_rating_ver', 'ver', 'cont_rating', 'prime_genre', 'sup_devices.num', 'ipadSc_urls.num', 'lang.num', 'vpp_lic']\n"
     ]
    }
   ],
   "source": [
    "print(ios_header)"
   ]
  },
  {
   "cell_type": "code",
   "execution_count": 13,
   "metadata": {},
   "outputs": [
    {
     "name": "stdout",
     "output_type": "stream",
     "text": [
      "['1', '281656475', 'PAC-MAN Premium', '100788224', 'USD', '3.99', '21292', '26', '4', '4.5', '6.3.5', '4+', 'Games', '38', '5', '10', '1']\n",
      "\n",
      "\n",
      "['2', '281796108', 'Evernote - stay organized', '158578688', 'USD', '0', '161065', '26', '4', '3.5', '8.2.2', '4+', 'Productivity', '37', '5', '23', '1']\n",
      "\n",
      "\n",
      "Number of rows: 7197\n",
      "Number of columns: 17\n"
     ]
    }
   ],
   "source": [
    "explore_data(ios,0,2, True)"
   ]
  },
  {
   "cell_type": "code",
   "execution_count": 16,
   "metadata": {},
   "outputs": [
    {
     "name": "stdout",
     "output_type": "stream",
     "text": [
      "['App', 'Category', 'Rating', 'Reviews', 'Size', 'Installs', 'Type', 'Price', 'Content Rating', 'Genres', 'Last Updated', 'Current Ver', 'Android Ver']\n"
     ]
    }
   ],
   "source": [
    "print(android_header)"
   ]
  },
  {
   "cell_type": "code",
   "execution_count": 14,
   "metadata": {},
   "outputs": [
    {
     "name": "stdout",
     "output_type": "stream",
     "text": [
      "['Photo Editor & Candy Camera & Grid & ScrapBook', 'ART_AND_DESIGN', '4.1', '159', '19M', '10,000+', 'Free', '0', 'Everyone', 'Art & Design', 'January 7, 2018', '1.0.0', '4.0.3 and up']\n",
      "\n",
      "\n",
      "['Coloring book moana', 'ART_AND_DESIGN', '3.9', '967', '14M', '500,000+', 'Free', '0', 'Everyone', 'Art & Design;Pretend Play', 'January 15, 2018', '2.0.0', '4.0.3 and up']\n",
      "\n",
      "\n",
      "Number of rows: 10841\n",
      "Number of columns: 13\n"
     ]
    }
   ],
   "source": [
    "explore_data(android,0,2, True)"
   ]
  },
  {
   "cell_type": "code",
   "execution_count": 20,
   "metadata": {},
   "outputs": [
    {
     "name": "stdout",
     "output_type": "stream",
     "text": [
      "['osmino Wi-Fi: free WiFi', 'TOOLS', '4.2', '134203', '4.1M', '10,000,000+', 'Free', '0', 'Everyone', 'Tools', 'August 7, 2018', '6.06.14', '4.4 and up']\n"
     ]
    }
   ],
   "source": [
    "# From the discussion boards, we find out that there is a row that \n",
    "# missing the category.\n",
    "print(android[10472])"
   ]
  },
  {
   "cell_type": "code",
   "execution_count": 19,
   "metadata": {},
   "outputs": [],
   "source": [
    "# del android[10472]"
   ]
  },
  {
   "cell_type": "code",
   "execution_count": null,
   "metadata": {},
   "outputs": [],
   "source": []
  }
 ],
 "metadata": {
  "kernelspec": {
   "display_name": "Python 3",
   "language": "python",
   "name": "python3"
  },
  "language_info": {
   "codemirror_mode": {
    "name": "ipython",
    "version": 3
   },
   "file_extension": ".py",
   "mimetype": "text/x-python",
   "name": "python",
   "nbconvert_exporter": "python",
   "pygments_lexer": "ipython3",
   "version": "3.7.6"
  }
 },
 "nbformat": 4,
 "nbformat_minor": 4
}
