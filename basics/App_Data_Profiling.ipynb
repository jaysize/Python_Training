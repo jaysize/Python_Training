{
 "cells": [
  {
   "cell_type": "markdown",
   "metadata": {},
   "source": [
    "## Python Programming Project: Profitable App Data Profiling\n",
    "---"
   ]
  },
  {
   "cell_type": "markdown",
   "metadata": {},
   "source": [
    "### Description\n",
    "- This project is designed to demonstrate looping and data profiling skills gained from Dataquest.io training.  \n",
    "- The perspective taken is that of a company that develops Android and iOS apps for the Apple App Store.\n",
    "- The goal is to understand the market for free apps, which is the business model of our ficticious company."
   ]
  },
  {
   "cell_type": "markdown",
   "metadata": {},
   "source": [
    "### Data\n",
    "his data set is from apps that were downloaded, how much they cost, and also ratings of users.  Other metrics are provided to understand how successful apps are across multiple systems.\n",
    "- The source of this data is from a Kaggle competition\n",
    "- The data set can be downloaded from [kaggle](https://www.kaggle.com/ramamet4/app-store-apple-data-set-10k-apps/data)"
   ]
  },
  {
   "cell_type": "markdown",
   "metadata": {},
   "source": [
    "| Column Name | Description |\n",
    "| ----------- | ---------------------- |\n",
    "| \"id\" | App ID |\n",
    "| \"track_name\" |  App Name |\n",
    "| \"size_bytes\" | Size (in Bytes) |\n",
    "| \"currency\" | Currency of price |\n",
    "| \"price\" | Purchase price of the app |\n",
    "| \"rating_count_tot\" | Total count of ratings |\n",
    "| \"rating_count_ver\" | Count of current version ratings |\n",
    "| \"user_rating\" | Average of user ratings |\n",
    "| \"user_rating_ver\" | Average user ratings for current version |"
   ]
  },
  {
   "cell_type": "code",
   "execution_count": 1,
   "metadata": {},
   "outputs": [
    {
     "data": {
      "text/plain": [
       "<_io.TextIOWrapper name='AppleStore.csv' mode='r' encoding='UTF-8'>"
      ]
     },
     "execution_count": 1,
     "metadata": {},
     "output_type": "execute_result"
    }
   ],
   "source": [
    "open('AppleStore.csv')"
   ]
  },
  {
   "cell_type": "code",
   "execution_count": null,
   "metadata": {},
   "outputs": [],
   "source": []
  }
 ],
 "metadata": {
  "kernelspec": {
   "display_name": "Python 3",
   "language": "python",
   "name": "python3"
  },
  "language_info": {
   "codemirror_mode": {
    "name": "ipython",
    "version": 3
   },
   "file_extension": ".py",
   "mimetype": "text/x-python",
   "name": "python",
   "nbconvert_exporter": "python",
   "pygments_lexer": "ipython3",
   "version": "3.7.6"
  }
 },
 "nbformat": 4,
 "nbformat_minor": 4
}
