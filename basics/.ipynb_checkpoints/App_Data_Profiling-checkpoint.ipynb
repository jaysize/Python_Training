{
 "cells": [
  {
   "cell_type": "markdown",
   "metadata": {},
   "source": [
    "## Python Project: Profitable App Data Profiling\n",
    "---"
   ]
  },
  {
   "cell_type": "markdown",
   "metadata": {},
   "source": [
    "### Description\n",
    "- This project is designed to demonstrate looping and data profiling skills gained from Dataquest.io training.  \n",
    "- The perspective taken is that of a company that develops Android and iOS apps for the Apple App Store.\n",
    "- GOAL: to understand the market for free apps, which is the business model of our ficticious company.\n",
    "\n",
    "#### Assumptions:\n",
    "- Our company is targeting the US (only cares about English language apps)"
   ]
  },
  {
   "cell_type": "markdown",
   "metadata": {},
   "source": [
    "### Data\n",
    "This data set is from apps that were downloaded, how much they cost, and also ratings of users.  Other metrics are provided to understand how successful apps are across multiple systems.\n",
    "- The [source](https://www.kaggle.com/ramamet4/app-store-apple-data-set-10k-apps/data) of the Apple app data is from a Kaggle competition.\n",
    "- The [source](https://www.kaggle.com/lava18/google-play-store-apps) of the Android app data is from another Kaggle competition."
   ]
  },
  {
   "cell_type": "markdown",
   "metadata": {},
   "source": [
    "### Key \n",
    "\n",
    "| iOS Name | Android Name |Description |\n",
    "| ----------- | ----------- |---------------------- |\n",
    "| \"id\" | NA | App ID |\n",
    "| \"track_name\" |\"App\" |  App Name |\n",
    "| \"prime_genre\" | \"Category\" | Category the app belongs to |\n",
    "| \"size_bytes\" |\"Size\" | Size (in Bytes) |\n",
    "| \"currency\" | NA | Currency of price |\n",
    "| \"price\" |\"Price\" | Purchase price of the app |\n",
    "| \"rating_count_tot\" |\"Reviews\" | Total count of ratings |\n",
    "| \"user_rating\" |\"Rating\" | Average of user ratings |\n",
    "| \"cont_rating\" |\"Content Rating\" | Age group the app is targeted at |\n",
    "| \"rating_count_ver\" | NA | Count of current version ratings |\n",
    "| \"user_rating_ver\" | NA | Average user ratings for current version |\n",
    "| \"sup_devices.num\" | NA | Unknown |\n",
    "| \"ipadSc_urls.num\" | NA | Unknown |\n",
    "| \"lang.num\" | NA | Unknown |\n",
    "| \"vpp_lic\" | NA | Unknown |\n",
    "| NA | \"Genres\" | An app can belong to multiple genres (apart from its main category)|\n",
    "| NA | \"Installs\" | Number of user downloads/installs for the app (as when scraped) |\n",
    "| NA | \"Last Updated\" | Date when the app was last updated on Play Store (as when scraped) |\n",
    "| NA | \"Current Ver\" | Current version of the app available on Play Store (as when scraped) |\n",
    "| NA | \"Android Ver\" | Min required Android version (as when scraped) |"
   ]
  },
  {
   "cell_type": "markdown",
   "metadata": {},
   "source": [
    "----"
   ]
  },
  {
   "cell_type": "markdown",
   "metadata": {},
   "source": [
    "#### Reading in the data\n",
    "We have already saved the csv files from the locations above. We will read each into separate files, since they contain different data elements"
   ]
  },
  {
   "cell_type": "code",
   "execution_count": 11,
   "metadata": {},
   "outputs": [],
   "source": [
    "from csv import reader\n",
    "apple_file = open('AppleStore.csv', encoding='utf8')\n",
    "android_file = open('googleplaystore.csv', encoding='utf8')\n",
    "read_apple_file = reader(apple_file)\n",
    "read_android_file = reader(android_file)\n",
    "\n",
    "ios = list(read_apple_file)\n",
    "ios_header = ios[0]\n",
    "ios = ios[1:]\n",
    "\n",
    "android = list(read_android_file)\n",
    "android_header = android[0]\n",
    "android = android[1:]"
   ]
  },
  {
   "cell_type": "markdown",
   "metadata": {},
   "source": [
    "#### Explore the data\n",
    "Let's take some time looking at the headers and some row examples of the iOS and Android apps. We will have to do this separately because we have not merged or unioned them together yet."
   ]
  },
  {
   "cell_type": "code",
   "execution_count": 12,
   "metadata": {},
   "outputs": [],
   "source": [
    "def explore_data(dataset, start, end, rows_and_columns=False):\n",
    "    dataset_slice = dataset[start:end]    \n",
    "    for row in dataset_slice:\n",
    "        print(row)\n",
    "        print('\\n') # adds a new (empty) line after each row\n",
    "\n",
    "    if rows_and_columns:\n",
    "        print('Number of rows:', len(dataset))\n",
    "        print('Number of columns:', len(dataset[0]))"
   ]
  },
  {
   "cell_type": "code",
   "execution_count": 17,
   "metadata": {},
   "outputs": [
    {
     "name": "stdout",
     "output_type": "stream",
     "text": [
      "['', 'id', 'track_name', 'size_bytes', 'currency', 'price', 'rating_count_tot', 'rating_count_ver', 'user_rating', 'user_rating_ver', 'ver', 'cont_rating', 'prime_genre', 'sup_devices.num', 'ipadSc_urls.num', 'lang.num', 'vpp_lic']\n"
     ]
    }
   ],
   "source": [
    "print(ios_header)"
   ]
  },
  {
   "cell_type": "code",
   "execution_count": 13,
   "metadata": {},
   "outputs": [
    {
     "name": "stdout",
     "output_type": "stream",
     "text": [
      "['1', '281656475', 'PAC-MAN Premium', '100788224', 'USD', '3.99', '21292', '26', '4', '4.5', '6.3.5', '4+', 'Games', '38', '5', '10', '1']\n",
      "\n",
      "\n",
      "['2', '281796108', 'Evernote - stay organized', '158578688', 'USD', '0', '161065', '26', '4', '3.5', '8.2.2', '4+', 'Productivity', '37', '5', '23', '1']\n",
      "\n",
      "\n",
      "Number of rows: 7197\n",
      "Number of columns: 17\n"
     ]
    }
   ],
   "source": [
    "explore_data(ios,0,2, True)"
   ]
  },
  {
   "cell_type": "code",
   "execution_count": 16,
   "metadata": {},
   "outputs": [
    {
     "name": "stdout",
     "output_type": "stream",
     "text": [
      "['App', 'Category', 'Rating', 'Reviews', 'Size', 'Installs', 'Type', 'Price', 'Content Rating', 'Genres', 'Last Updated', 'Current Ver', 'Android Ver']\n"
     ]
    }
   ],
   "source": [
    "print(android_header)"
   ]
  },
  {
   "cell_type": "code",
   "execution_count": 14,
   "metadata": {},
   "outputs": [
    {
     "name": "stdout",
     "output_type": "stream",
     "text": [
      "['Photo Editor & Candy Camera & Grid & ScrapBook', 'ART_AND_DESIGN', '4.1', '159', '19M', '10,000+', 'Free', '0', 'Everyone', 'Art & Design', 'January 7, 2018', '1.0.0', '4.0.3 and up']\n",
      "\n",
      "\n",
      "['Coloring book moana', 'ART_AND_DESIGN', '3.9', '967', '14M', '500,000+', 'Free', '0', 'Everyone', 'Art & Design;Pretend Play', 'January 15, 2018', '2.0.0', '4.0.3 and up']\n",
      "\n",
      "\n",
      "Number of rows: 10841\n",
      "Number of columns: 13\n"
     ]
    }
   ],
   "source": [
    "explore_data(android,0,2, True)"
   ]
  },
  {
   "cell_type": "markdown",
   "metadata": {},
   "source": [
    "#### Deleting wrong data\n",
    "From the discussion boards, we find out that there is a row that missing the category."
   ]
  },
  {
   "cell_type": "code",
   "execution_count": 20,
   "metadata": {},
   "outputs": [
    {
     "name": "stdout",
     "output_type": "stream",
     "text": [
      "['osmino Wi-Fi: free WiFi', 'TOOLS', '4.2', '134203', '4.1M', '10,000,000+', 'Free', '0', 'Everyone', 'Tools', 'August 7, 2018', '6.06.14', '4.4 and up']\n"
     ]
    }
   ],
   "source": [
    "print(android[10472])"
   ]
  },
  {
   "cell_type": "code",
   "execution_count": 19,
   "metadata": {},
   "outputs": [],
   "source": [
    "# del android[10472] # only do this once"
   ]
  },
  {
   "cell_type": "markdown",
   "metadata": {},
   "source": [
    "#### Handling duplicate data\n",
    "There are some duplicate rows - apps that are repeated in the data set. An example is shown below and we will need to filter out the ones with less than the max number of reviews.\n",
    "\n",
    "---"
   ]
  },
  {
   "cell_type": "code",
   "execution_count": 21,
   "metadata": {},
   "outputs": [
    {
     "name": "stdout",
     "output_type": "stream",
     "text": [
      "['Instagram', 'SOCIAL', '4.5', '66577313', 'Varies with device', '1,000,000,000+', 'Free', '0', 'Teen', 'Social', 'July 31, 2018', 'Varies with device', 'Varies with device']\n",
      "['Instagram', 'SOCIAL', '4.5', '66577446', 'Varies with device', '1,000,000,000+', 'Free', '0', 'Teen', 'Social', 'July 31, 2018', 'Varies with device', 'Varies with device']\n",
      "['Instagram', 'SOCIAL', '4.5', '66577313', 'Varies with device', '1,000,000,000+', 'Free', '0', 'Teen', 'Social', 'July 31, 2018', 'Varies with device', 'Varies with device']\n",
      "['Instagram', 'SOCIAL', '4.5', '66509917', 'Varies with device', '1,000,000,000+', 'Free', '0', 'Teen', 'Social', 'July 31, 2018', 'Varies with device', 'Varies with device']\n"
     ]
    }
   ],
   "source": [
    "for app in android:\n",
    "    name = app[0]\n",
    "    if name == 'Instagram':\n",
    "        print(app)"
   ]
  },
  {
   "cell_type": "code",
   "execution_count": 23,
   "metadata": {},
   "outputs": [
    {
     "name": "stdout",
     "output_type": "stream",
     "text": [
      "Number of duplicate apps:  1181\n",
      "\n",
      "\n",
      "Examples of duplicate apps:  ['Quick PDF Scanner + OCR FREE', 'Box', 'Google My Business', 'ZOOM Cloud Meetings', 'join.me - Simple Meetings', 'Box', 'Zenefits', 'Google Ads', 'Google My Business', 'Slack', 'FreshBooks Classic', 'Insightly CRM', 'QuickBooks Accounting: Invoicing & Expenses', 'HipChat - Chat Built for Teams', 'Xero Accounting Software']\n"
     ]
    }
   ],
   "source": [
    "duplicate_apps = []\n",
    "unique_apps = []\n",
    "for app in android:\n",
    "    name = app[0]\n",
    "    if name in unique_apps:\n",
    "        duplicate_apps.append(name)\n",
    "    else:\n",
    "        unique_apps.append(name)\n",
    "print('Number of duplicate apps: ',len(duplicate_apps))\n",
    "print('\\n')\n",
    "print('Examples of duplicate apps: ', duplicate_apps[:15])"
   ]
  },
  {
   "cell_type": "markdown",
   "metadata": {},
   "source": [
    "---\n",
    "We won't be removing duplicates randomly. These aren't true duplicates - they are simply updates of existing apps that have increasing amounts of reviews. We will at least be removing based on number of reviews, choosing the maximum review count record to keep.\n",
    "\n",
    "---"
   ]
  },
  {
   "cell_type": "code",
   "execution_count": 28,
   "metadata": {},
   "outputs": [],
   "source": [
    "reviews_max = {}\n",
    "for row in android:\n",
    "    app_name = row[0]\n",
    "    n_reviews = float(row[3])\n",
    "    if app_name in reviews_max and reviews_max[app_name] < n_reviews:\n",
    "        reviews_max[app_name] = n_reviews\n",
    "    elif app_name not in reviews_max:\n",
    "        reviews_max[app_name] = n_reviews"
   ]
  },
  {
   "cell_type": "markdown",
   "metadata": {},
   "source": [
    "Let's check to see if we have removed the correct amount of duplicates."
   ]
  },
  {
   "cell_type": "code",
   "execution_count": 32,
   "metadata": {},
   "outputs": [
    {
     "name": "stdout",
     "output_type": "stream",
     "text": [
      "Have the records been shortened by 1181 duplicates?  True\n"
     ]
    }
   ],
   "source": [
    "eval_len = len(android)-1181 == len(reviews_max)\n",
    "print('Have the records been shortened by 1181 duplicates? ', eval_len)"
   ]
  },
  {
   "cell_type": "markdown",
   "metadata": {},
   "source": [
    "Let's use the dictionary we created as we loop through the android data set.  By the end we will have a new data set that has the duplicate rows removed.  As we loop, we will:\n",
    "\n",
    "1. Add the apps that have the highest reviews (refering to the dictionary)\n",
    "2. Deep track if we had already added them.\n",
    "\n",
    "This logic is captured in the if statement"
   ]
  },
  {
   "cell_type": "code",
   "execution_count": 47,
   "metadata": {},
   "outputs": [],
   "source": [
    "android_clean = []\n",
    "already_added = []\n",
    "for row in android:\n",
    "    name = row[0]\n",
    "    n_reviews = float(row[3])\n",
    "    if n_reviews == reviews_max[name] and name not in already_added:\n",
    "        android_clean.append(row)\n",
    "        already_added.append(name)"
   ]
  },
  {
   "cell_type": "code",
   "execution_count": 45,
   "metadata": {},
   "outputs": [
    {
     "name": "stdout",
     "output_type": "stream",
     "text": [
      "The expected length of the new list is:  9659\n",
      "The actual length of the new list is:  9659\n"
     ]
    }
   ],
   "source": [
    "print('The expected length of the new list is: ',len(reviews_max))\n",
    "print('The actual length of the new list is: ', len(android_clean))"
   ]
  },
  {
   "cell_type": "markdown",
   "metadata": {},
   "source": [
    "The length matches our expectation of 9659, we are good to proceed to the next step.\n",
    "\n",
    "---"
   ]
  },
  {
   "cell_type": "markdown",
   "metadata": {},
   "source": [
    "#### Filter non-English language apps\n",
    "Since our company is targeting the US market, we will need to confirm that no non-English apps exist in the data set.  We will do this by removing each app with a name containing symbol(s) not commonly used in English.\n",
    "\n",
    "Fortunately, we can use the ASCII system range of 0 to 127 which corresponds to those of English characters.  In other words, if an app name contains a character greater than 127, then it is probably not an English name.\n",
    "\n",
    "However, sometimes there are emoji's or trademarks that fall outside the 127 range.  Since we don't want to filter these out, we will add some logic that allows up to 3 non-English characters.  A list of non-English characters will keep track of this count as we loop through all the characters in the string."
   ]
  },
  {
   "cell_type": "code",
   "execution_count": 59,
   "metadata": {},
   "outputs": [],
   "source": [
    "def english_checker(string):\n",
    "    is_english = True\n",
    "    non_english_characters = []\n",
    "    for character in string:\n",
    "        ascii_num = ord(character)\n",
    "        if ascii_num > 127:\n",
    "            non_english_characters.append(ascii_num)\n",
    "    if len(non_english_characters) > 3:\n",
    "        is_english = False\n",
    "    return is_english"
   ]
  },
  {
   "cell_type": "markdown",
   "metadata": {},
   "source": [
    "Let's see how this function performs:"
   ]
  },
  {
   "cell_type": "code",
   "execution_count": 60,
   "metadata": {
    "scrolled": true
   },
   "outputs": [
    {
     "data": {
      "text/plain": [
       "True"
      ]
     },
     "execution_count": 60,
     "metadata": {},
     "output_type": "execute_result"
    }
   ],
   "source": [
    "english_checker('Instagram')"
   ]
  },
  {
   "cell_type": "code",
   "execution_count": 61,
   "metadata": {},
   "outputs": [
    {
     "data": {
      "text/plain": [
       "False"
      ]
     },
     "execution_count": 61,
     "metadata": {},
     "output_type": "execute_result"
    }
   ],
   "source": [
    "english_checker('爱奇艺PPS -《欢乐颂2》电视剧热播')"
   ]
  },
  {
   "cell_type": "code",
   "execution_count": 62,
   "metadata": {},
   "outputs": [
    {
     "data": {
      "text/plain": [
       "True"
      ]
     },
     "execution_count": 62,
     "metadata": {},
     "output_type": "execute_result"
    }
   ],
   "source": [
    "english_checker('Docs To Go™ Free Office Suite')"
   ]
  },
  {
   "cell_type": "code",
   "execution_count": 63,
   "metadata": {},
   "outputs": [
    {
     "data": {
      "text/plain": [
       "True"
      ]
     },
     "execution_count": 63,
     "metadata": {},
     "output_type": "execute_result"
    }
   ],
   "source": [
    "english_checker('Instachat 😜')"
   ]
  },
  {
   "cell_type": "markdown",
   "metadata": {},
   "source": [
    "Now let's use this function to loop through our two data sets to filter out non-English apps.  If an app name is English, we will add it to a new list."
   ]
  },
  {
   "cell_type": "code",
   "execution_count": 64,
   "metadata": {},
   "outputs": [],
   "source": [
    "android_english = []\n",
    "for row in android_clean:\n",
    "    if english_checker(row[0]):\n",
    "        android_english.append(row)"
   ]
  },
  {
   "cell_type": "code",
   "execution_count": 65,
   "metadata": {},
   "outputs": [
    {
     "name": "stdout",
     "output_type": "stream",
     "text": [
      "['Photo Editor & Candy Camera & Grid & ScrapBook', 'ART_AND_DESIGN', '4.1', '159', '19M', '10,000+', 'Free', '0', 'Everyone', 'Art & Design', 'January 7, 2018', '1.0.0', '4.0.3 and up']\n",
      "\n",
      "\n",
      "['U Launcher Lite – FREE Live Cool Themes, Hide Apps', 'ART_AND_DESIGN', '4.7', '87510', '8.7M', '5,000,000+', 'Free', '0', 'Everyone', 'Art & Design', 'August 1, 2018', '1.2.4', '4.0.3 and up']\n",
      "\n",
      "\n",
      "Number of rows: 9614\n",
      "Number of columns: 13\n"
     ]
    }
   ],
   "source": [
    "explore_data(android_english,0,2, True)"
   ]
  },
  {
   "cell_type": "code",
   "execution_count": 66,
   "metadata": {},
   "outputs": [],
   "source": [
    "ios_english = []\n",
    "for row in ios:\n",
    "    if english_checker(row[2]):\n",
    "        ios_english.append(row)"
   ]
  },
  {
   "cell_type": "code",
   "execution_count": 67,
   "metadata": {},
   "outputs": [
    {
     "name": "stdout",
     "output_type": "stream",
     "text": [
      "['1', '281656475', 'PAC-MAN Premium', '100788224', 'USD', '3.99', '21292', '26', '4', '4.5', '6.3.5', '4+', 'Games', '38', '5', '10', '1']\n",
      "\n",
      "\n",
      "['2', '281796108', 'Evernote - stay organized', '158578688', 'USD', '0', '161065', '26', '4', '3.5', '8.2.2', '4+', 'Productivity', '37', '5', '23', '1']\n",
      "\n",
      "\n",
      "Number of rows: 6183\n",
      "Number of columns: 17\n"
     ]
    }
   ],
   "source": [
    "explore_data(ios_english,0,2, True)"
   ]
  },
  {
   "cell_type": "code",
   "execution_count": 68,
   "metadata": {},
   "outputs": [],
   "source": [
    "### number of columns for iOS doesn't match solutions. May have kept index column"
   ]
  },
  {
   "cell_type": "markdown",
   "metadata": {},
   "source": [
    "### Filter to only free apps\n",
    "Our company only builds apps that are free to download, thus we want to limit our market evaluation to free apps. Below we loop through both lists and retain only the ones with zero for price."
   ]
  },
  {
   "cell_type": "code",
   "execution_count": 84,
   "metadata": {},
   "outputs": [
    {
     "name": "stdout",
     "output_type": "stream",
     "text": [
      "['2', '281796108', 'Evernote - stay organized', '158578688', 'USD', '0', '161065', '26', '4', '3.5', '8.2.2', '4+', 'Productivity', '37', '5', '23', '1']\n",
      "\n",
      "\n",
      "Number of rows: 3222\n",
      "Number of columns: 17\n"
     ]
    }
   ],
   "source": [
    "ios_eng_free = []\n",
    "for row in ios_english:\n",
    "    price = row[5]\n",
    "    if price == '0':\n",
    "        ios_eng_free.append(row)\n",
    "explore_data(ios_eng_free,0,1,True)"
   ]
  },
  {
   "cell_type": "code",
   "execution_count": 72,
   "metadata": {},
   "outputs": [
    {
     "name": "stdout",
     "output_type": "stream",
     "text": [
      "['Photo Editor & Candy Camera & Grid & ScrapBook', 'ART_AND_DESIGN', '4.1', '159', '19M', '10,000+', 'Free', '0', 'Everyone', 'Art & Design', 'January 7, 2018', '1.0.0', '4.0.3 and up']\n",
      "\n",
      "\n",
      "Number of rows: 8864\n",
      "Number of columns: 13\n"
     ]
    }
   ],
   "source": [
    "android_eng_free = []\n",
    "for row in android_english:\n",
    "    price = row[7]\n",
    "    if price == '0':\n",
    "        android_eng_free.append(row)\n",
    "explore_data(android_eng_free,0,1,True)"
   ]
  },
  {
   "cell_type": "markdown",
   "metadata": {},
   "source": [
    "### Choose a genre to target\n",
    "The aim of our company is to earn revenue from advertising.  Thus the more users, the better. Our strategy is as follows:\n",
    "1. Make an minimal viable product for Android, add it to Google Play\n",
    "2. If the app does well, develop more features\n",
    "3. If the app is profitable after 6 months, then we build an iOS version.\n",
    "\n",
    "Hence, we want to understand which genre's exist in both stores and how popular they might be.\n",
    "Let's build a function to allow a dataset and column index as inputs and spit out a percentage frequency table."
   ]
  },
  {
   "cell_type": "code",
   "execution_count": 100,
   "metadata": {},
   "outputs": [],
   "source": [
    "def freq_table(dataset, index):\n",
    "    \n",
    "# Create a dictionary with counts for each uniqe column value\n",
    "    column_counting = {}\n",
    "    for row in dataset:\n",
    "        column = row[index]\n",
    "        if column in column_counting:\n",
    "            column_counting[column] += 1\n",
    "        else:\n",
    "            column_counting[column] = 1\n",
    "        \n",
    "# Convert the counts to percentages\n",
    "    total = len(dataset)\n",
    "    percentages = {}\n",
    "    for key in column_counting:\n",
    "        percentage = 100 * column_counting[key]/total\n",
    "        percentage = round(percentage,2)\n",
    "        percentages[key] = percentage\n",
    "        \n",
    "    return percentages"
   ]
  },
  {
   "cell_type": "code",
   "execution_count": 101,
   "metadata": {},
   "outputs": [
    {
     "name": "stdout",
     "output_type": "stream",
     "text": [
      "{'Productivity': 1.74, 'Weather': 0.87, 'Shopping': 2.61, 'Reference': 0.56, 'Finance': 1.12, 'Music': 2.05, 'Utilities': 2.51, 'Travel': 1.24, 'Social Networking': 3.29, 'Sports': 2.14, 'Health & Fitness': 2.02, 'Games': 58.16, 'Food & Drink': 0.81, 'News': 1.33, 'Book': 0.43, 'Photo & Video': 4.97, 'Entertainment': 7.88, 'Business': 0.53, 'Lifestyle': 1.58, 'Education': 3.66, 'Navigation': 0.19, 'Medical': 0.19, 'Catalogs': 0.12}\n"
     ]
    }
   ],
   "source": [
    "ios_genre_percentages = freq_table(ios_eng_free, 12)\n",
    "print(ios_genre_percentages)"
   ]
  },
  {
   "cell_type": "code",
   "execution_count": 102,
   "metadata": {
    "scrolled": true
   },
   "outputs": [
    {
     "name": "stdout",
     "output_type": "stream",
     "text": [
      "{'ART_AND_DESIGN': 0.64, 'AUTO_AND_VEHICLES': 0.93, 'BEAUTY': 0.6, 'BOOKS_AND_REFERENCE': 2.14, 'BUSINESS': 4.59, 'COMICS': 0.62, 'COMMUNICATION': 3.24, 'DATING': 1.86, 'EDUCATION': 1.16, 'ENTERTAINMENT': 0.96, 'EVENTS': 0.71, 'FINANCE': 3.7, 'FOOD_AND_DRINK': 1.24, 'HEALTH_AND_FITNESS': 3.08, 'HOUSE_AND_HOME': 0.82, 'LIBRARIES_AND_DEMO': 0.94, 'LIFESTYLE': 3.9, 'GAME': 9.72, 'FAMILY': 18.91, 'MEDICAL': 3.53, 'SOCIAL': 2.66, 'SHOPPING': 2.25, 'PHOTOGRAPHY': 2.94, 'SPORTS': 3.4, 'TRAVEL_AND_LOCAL': 2.34, 'TOOLS': 8.46, 'PERSONALIZATION': 3.32, 'PRODUCTIVITY': 3.89, 'PARENTING': 0.65, 'WEATHER': 0.8, 'VIDEO_PLAYERS': 1.79, 'NEWS_AND_MAGAZINES': 2.8, 'MAPS_AND_NAVIGATION': 1.4}\n"
     ]
    }
   ],
   "source": [
    "android_genre_percentages = freq_table(android_eng_free, 1)\n",
    "print(android_genre_percentages)"
   ]
  },
  {
   "cell_type": "code",
   "execution_count": 103,
   "metadata": {},
   "outputs": [],
   "source": [
    "def display_table(dataset, index):\n",
    "    table = freq_table(dataset, index)\n",
    "    table_display = []\n",
    "    for key in table:\n",
    "        key_val_as_tuple = (table[key], key)\n",
    "        table_display.append(key_val_as_tuple)\n",
    "\n",
    "    table_sorted = sorted(table_display, reverse = True)\n",
    "    for entry in table_sorted:\n",
    "        print(entry[1], ':', entry[0])"
   ]
  },
  {
   "cell_type": "code",
   "execution_count": 104,
   "metadata": {
    "scrolled": true
   },
   "outputs": [
    {
     "name": "stdout",
     "output_type": "stream",
     "text": [
      "Games : 58.16\n",
      "Entertainment : 7.88\n",
      "Photo & Video : 4.97\n",
      "Education : 3.66\n",
      "Social Networking : 3.29\n",
      "Shopping : 2.61\n",
      "Utilities : 2.51\n",
      "Sports : 2.14\n",
      "Music : 2.05\n",
      "Health & Fitness : 2.02\n",
      "Productivity : 1.74\n",
      "Lifestyle : 1.58\n",
      "News : 1.33\n",
      "Travel : 1.24\n",
      "Finance : 1.12\n",
      "Weather : 0.87\n",
      "Food & Drink : 0.81\n",
      "Reference : 0.56\n",
      "Business : 0.53\n",
      "Book : 0.43\n",
      "Navigation : 0.19\n",
      "Medical : 0.19\n",
      "Catalogs : 0.12\n"
     ]
    }
   ],
   "source": [
    "display_table(ios_eng_free, 12)"
   ]
  },
  {
   "cell_type": "markdown",
   "metadata": {},
   "source": [
    "For free english apps, Games accounts for the majority fo the selection at 58%. Entertainment is near 8% and Photo & Video follows at 5%. It will be interesting to see if the number of apps yields the most users or if some of the other more \"boring\" genre's like News, Finance, Reference, or Business effectively have many more user's per app."
   ]
  },
  {
   "cell_type": "code",
   "execution_count": 105,
   "metadata": {
    "scrolled": true
   },
   "outputs": [
    {
     "name": "stdout",
     "output_type": "stream",
     "text": [
      "FAMILY : 18.91\n",
      "GAME : 9.72\n",
      "TOOLS : 8.46\n",
      "BUSINESS : 4.59\n",
      "LIFESTYLE : 3.9\n",
      "PRODUCTIVITY : 3.89\n",
      "FINANCE : 3.7\n",
      "MEDICAL : 3.53\n",
      "SPORTS : 3.4\n",
      "PERSONALIZATION : 3.32\n",
      "COMMUNICATION : 3.24\n",
      "HEALTH_AND_FITNESS : 3.08\n",
      "PHOTOGRAPHY : 2.94\n",
      "NEWS_AND_MAGAZINES : 2.8\n",
      "SOCIAL : 2.66\n",
      "TRAVEL_AND_LOCAL : 2.34\n",
      "SHOPPING : 2.25\n",
      "BOOKS_AND_REFERENCE : 2.14\n",
      "DATING : 1.86\n",
      "VIDEO_PLAYERS : 1.79\n",
      "MAPS_AND_NAVIGATION : 1.4\n",
      "FOOD_AND_DRINK : 1.24\n",
      "EDUCATION : 1.16\n",
      "ENTERTAINMENT : 0.96\n",
      "LIBRARIES_AND_DEMO : 0.94\n",
      "AUTO_AND_VEHICLES : 0.93\n",
      "HOUSE_AND_HOME : 0.82\n",
      "WEATHER : 0.8\n",
      "EVENTS : 0.71\n",
      "PARENTING : 0.65\n",
      "ART_AND_DESIGN : 0.64\n",
      "COMICS : 0.62\n",
      "BEAUTY : 0.6\n"
     ]
    }
   ],
   "source": [
    "display_table(android_eng_free, 1)"
   ]
  },
  {
   "cell_type": "markdown",
   "metadata": {},
   "source": [
    "For Android, there is a much more even distribution. Nothing dominates like Games did for iOS. The highest category is Family at 19% followed by Games and Tools near 8-9%. However, keep in mind that Family describes apps for kids (which maybe classified as Games on iOS)."
   ]
  },
  {
   "cell_type": "code",
   "execution_count": 106,
   "metadata": {},
   "outputs": [
    {
     "name": "stdout",
     "output_type": "stream",
     "text": [
      "Tools : 8.45\n",
      "Entertainment : 6.07\n",
      "Education : 5.35\n",
      "Business : 4.59\n",
      "Productivity : 3.89\n",
      "Lifestyle : 3.89\n",
      "Finance : 3.7\n",
      "Medical : 3.53\n",
      "Sports : 3.46\n",
      "Personalization : 3.32\n",
      "Communication : 3.24\n",
      "Action : 3.1\n",
      "Health & Fitness : 3.08\n",
      "Photography : 2.94\n",
      "News & Magazines : 2.8\n",
      "Social : 2.66\n",
      "Travel & Local : 2.32\n",
      "Shopping : 2.25\n",
      "Books & Reference : 2.14\n",
      "Simulation : 2.04\n",
      "Dating : 1.86\n",
      "Arcade : 1.85\n",
      "Video Players & Editors : 1.77\n",
      "Casual : 1.76\n",
      "Maps & Navigation : 1.4\n",
      "Food & Drink : 1.24\n",
      "Puzzle : 1.13\n",
      "Racing : 0.99\n",
      "Role Playing : 0.94\n",
      "Libraries & Demo : 0.94\n",
      "Auto & Vehicles : 0.93\n",
      "Strategy : 0.91\n",
      "House & Home : 0.82\n",
      "Weather : 0.8\n",
      "Events : 0.71\n",
      "Adventure : 0.68\n",
      "Comics : 0.61\n",
      "Beauty : 0.6\n",
      "Art & Design : 0.6\n",
      "Parenting : 0.5\n",
      "Card : 0.45\n",
      "Casino : 0.43\n",
      "Trivia : 0.42\n",
      "Educational;Education : 0.39\n",
      "Board : 0.38\n",
      "Educational : 0.37\n",
      "Education;Education : 0.34\n",
      "Word : 0.26\n",
      "Casual;Pretend Play : 0.24\n",
      "Music : 0.2\n",
      "Racing;Action & Adventure : 0.17\n",
      "Puzzle;Brain Games : 0.17\n",
      "Entertainment;Music & Video : 0.17\n",
      "Casual;Brain Games : 0.14\n",
      "Casual;Action & Adventure : 0.14\n",
      "Arcade;Action & Adventure : 0.12\n",
      "Action;Action & Adventure : 0.1\n",
      "Educational;Pretend Play : 0.09\n",
      "Simulation;Action & Adventure : 0.08\n",
      "Parenting;Education : 0.08\n",
      "Entertainment;Brain Games : 0.08\n",
      "Board;Brain Games : 0.08\n",
      "Parenting;Music & Video : 0.07\n",
      "Educational;Brain Games : 0.07\n",
      "Casual;Creativity : 0.07\n",
      "Art & Design;Creativity : 0.07\n",
      "Education;Pretend Play : 0.06\n",
      "Role Playing;Pretend Play : 0.05\n",
      "Education;Creativity : 0.05\n",
      "Role Playing;Action & Adventure : 0.03\n",
      "Puzzle;Action & Adventure : 0.03\n",
      "Entertainment;Creativity : 0.03\n",
      "Entertainment;Action & Adventure : 0.03\n",
      "Educational;Creativity : 0.03\n",
      "Educational;Action & Adventure : 0.03\n",
      "Education;Music & Video : 0.03\n",
      "Education;Brain Games : 0.03\n",
      "Education;Action & Adventure : 0.03\n",
      "Adventure;Action & Adventure : 0.03\n",
      "Video Players & Editors;Music & Video : 0.02\n",
      "Sports;Action & Adventure : 0.02\n",
      "Simulation;Pretend Play : 0.02\n",
      "Puzzle;Creativity : 0.02\n",
      "Music;Music & Video : 0.02\n",
      "Entertainment;Pretend Play : 0.02\n",
      "Casual;Education : 0.02\n",
      "Board;Action & Adventure : 0.02\n",
      "Video Players & Editors;Creativity : 0.01\n",
      "Trivia;Education : 0.01\n",
      "Travel & Local;Action & Adventure : 0.01\n",
      "Tools;Education : 0.01\n",
      "Strategy;Education : 0.01\n",
      "Strategy;Creativity : 0.01\n",
      "Strategy;Action & Adventure : 0.01\n",
      "Simulation;Education : 0.01\n",
      "Role Playing;Brain Games : 0.01\n",
      "Racing;Pretend Play : 0.01\n",
      "Puzzle;Education : 0.01\n",
      "Parenting;Brain Games : 0.01\n",
      "Music & Audio;Music & Video : 0.01\n",
      "Lifestyle;Pretend Play : 0.01\n",
      "Lifestyle;Education : 0.01\n",
      "Health & Fitness;Education : 0.01\n",
      "Health & Fitness;Action & Adventure : 0.01\n",
      "Entertainment;Education : 0.01\n",
      "Communication;Creativity : 0.01\n",
      "Comics;Creativity : 0.01\n",
      "Casual;Music & Video : 0.01\n",
      "Card;Action & Adventure : 0.01\n",
      "Books & Reference;Education : 0.01\n",
      "Art & Design;Pretend Play : 0.01\n",
      "Art & Design;Action & Adventure : 0.01\n",
      "Arcade;Pretend Play : 0.01\n",
      "Adventure;Education : 0.01\n"
     ]
    }
   ],
   "source": [
    "display_table(android_eng_free, 9)"
   ]
  },
  {
   "cell_type": "markdown",
   "metadata": {},
   "source": [
    "At first glance, the columns of Category and Genres look very similar, but Genres does contain some more detailed categories not listed in the Categories column.  Despite this, we will stay at the higher level Categories column for analysis."
   ]
  },
  {
   "cell_type": "markdown",
   "metadata": {},
   "source": [
    "### Which apps have the most users\n",
    "To determine which genre (or category) has the most users is to calculate the average number of downloads (or number of user ratings when not available in the case of Apple apps) per app genre. \n",
    "\n",
    "First let's do the average number of user ratings per app in the Apple store."
   ]
  },
  {
   "cell_type": "code",
   "execution_count": 120,
   "metadata": {},
   "outputs": [
    {
     "name": "stdout",
     "output_type": "stream",
     "text": [
      "Productivity :  21028.0\n",
      "Weather :  52280.0\n",
      "Shopping :  26920.0\n",
      "Reference :  74942.0\n",
      "Finance :  31468.0\n",
      "Music :  57327.0\n",
      "Utilities :  18684.0\n",
      "Travel :  28244.0\n",
      "Social Networking :  71548.0\n",
      "Sports :  23009.0\n",
      "Health & Fitness :  23298.0\n",
      "Games :  22789.0\n",
      "Food & Drink :  33334.0\n",
      "News :  21248.0\n",
      "Book :  39758.0\n",
      "Photo & Video :  28442.0\n",
      "Entertainment :  14030.0\n",
      "Business :  7491.0\n",
      "Lifestyle :  16486.0\n",
      "Education :  7004.0\n",
      "Navigation :  86090.0\n",
      "Medical :  612.0\n",
      "Catalogs :  4004.0\n"
     ]
    }
   ],
   "source": [
    "ios_genres = freq_table(ios_eng_free, 12)\n",
    "\n",
    "for key in ios_genres:\n",
    "    total = 0\n",
    "    len_genre = 0\n",
    "    for app in ios_eng_free:\n",
    "        genre_app = app[12]\n",
    "        if genre_app == key:\n",
    "            n_ratings = float(app[6])\n",
    "            total += n_ratings\n",
    "            len_genre += 1\n",
    "    avg_count_of_ratings = round(total / len_genre,0)\n",
    "    print(key, ': ', avg_count_of_ratings)"
   ]
  },
  {
   "cell_type": "markdown",
   "metadata": {},
   "source": [
    "Here we can see the genres with the most ratings are:\n",
    "\n",
    "1. Navigation :  86090.0\n",
    "2. Reference :  74942.0\n",
    "3. Social Networking :  71548.0\n",
    "\n",
    "If we consider what people are doing in the apps and their openness to advertisements, we could probably assume that people using a navigation app won't want to be distracted too much.  In reference, they may be studying or focused on finding out a piece of information. However, Social networking is a more casual, less goal driven exercise where their mind may be open to distractions and perhaps clicking on a suggested link (of an advertisement)."
   ]
  },
  {
   "cell_type": "code",
   "execution_count": 124,
   "metadata": {
    "scrolled": true
   },
   "outputs": [
    {
     "name": "stdout",
     "output_type": "stream",
     "text": [
      "Facebook : 2974676\n",
      "LinkedIn : 71856\n",
      "Skype for iPhone : 373519\n",
      "Tumblr : 334293\n",
      "Match™ - #1 Dating App. : 60659\n",
      "WhatsApp Messenger : 287589\n",
      "TextNow - Unlimited Text + Calls : 164963\n",
      "Grindr - Gay and same sex guys chat, meet and date : 23201\n",
      "imo video calls and chat : 18841\n",
      "Ameba : 269\n",
      "Weibo : 7265\n",
      "Badoo - Meet New People, Chat, Socialize. : 34428\n",
      "Kik : 260965\n",
      "Qzone : 1649\n",
      "Fake-A-Location Free ™ : 354\n",
      "Tango - Free Video Call, Voice and Chat : 75412\n",
      "MeetMe - Chat and Meet New People : 97072\n",
      "SimSimi : 23530\n",
      "Viber Messenger – Text & Call : 164249\n",
      "Find My Family, Friends & iPhone - Life360 Locator : 43877\n",
      "Weibo HD : 16772\n",
      "POF - Best Dating App for Conversations : 52642\n",
      "GroupMe : 28260\n",
      "Lobi : 36\n",
      "WeChat : 34584\n",
      "ooVoo – Free Video Call, Text and Voice : 177501\n",
      "Pinterest : 1061624\n",
      "知乎 : 397\n",
      "Qzone HD : 458\n",
      "Skype for iPad : 60163\n",
      "LINE : 11437\n",
      "QQ : 9109\n",
      "LOVOO - Dating Chat : 1985\n",
      "QQ HD : 5058\n",
      "Messenger : 351466\n",
      "eHarmony™ Dating App - Meet Singles : 11124\n",
      "YouNow: Live Stream Video Chat : 12079\n",
      "Cougar Dating & Life Style App for Mature Women : 213\n",
      "Battlefield™ Companion : 689\n",
      "Whisper - Share, Express, Meet : 39819\n",
      "We Heart It - Fashion, wallpapers, quotes, tattoos : 90414\n",
      "Followers - Social Analytics For Instagram : 112778\n",
      "InsTrack for Instagram - Analytics Plus More : 85535\n",
      "Followers + for Instagram - Follower Analytics : 28633\n",
      "Timehop : 49510\n",
      "Repost for Instagram : 15185\n",
      "LINE PLAY - Your Avatar World : 34677\n",
      "Nextdoor : 14402\n",
      "Hangouts : 36404\n",
      "FollowMeter for Instagram - Followers Tracking : 11976\n",
      "Telegram Messenger : 7573\n",
      "Chatous - Chat with new people : 1609\n",
      "QQ International : 274\n",
      "FireChat : 1037\n",
      "Jodel : 1193\n",
      "Wishbone - Compare Anything : 20649\n",
      "Zenly - Locate your friends in realtime : 427\n",
      "Tantan : 235\n",
      "Flinch - Video Chat Staring Contest : 2134\n",
      "botman - Real time video chat : 7\n",
      "豆瓣 : 407\n",
      "Marco Polo Video Walkie Talkie : 27662\n",
      "After School - Funny Anonymous School News : 18482\n",
      "Highrise - Your Avatar Community : 2011\n",
      "Quick Reposter - Repost, Regram and Reshare Photos : 17694\n",
      "Kiwi - Q&A : 1538\n",
      "Periscope - Live Video Streaming Around the World : 6062\n",
      "Inke—Broadcast an amazing life : 147\n",
      "Discord - Chat for Gamers : 9152\n",
      "Candid - Speak Your Mind Freely : 398\n",
      "Down To Lunch : 2535\n",
      "SOMA Messenger : 3232\n",
      "Rawr Messenger - Dab your chat : 180\n",
      "Popcorn Buzz - Free Group Calls : 281\n",
      "Chain: Collaborate On MyVideo Story/Group Video : 35\n",
      "BestieBox : 0\n",
      "Selfeo : 366\n",
      "Followers Analysis Tool For Instagram App Free : 4253\n",
      "Hey! VINA - Where Women Meet New Friends : 719\n",
      "PlayStation®Messages : 1918\n",
      "WhenToPost: Best Time to Post Photos for Instagram : 158\n",
      "MATCH ON LINE chat : 0\n",
      "Fiesta by Tango - Chat & Meet New People : 885\n",
      "Houseparty - Group Video Chat : 3991\n",
      "All Devices for WhatsApp - Messenger for iPad : 682\n",
      "Peach — share vividly : 727\n",
      "bit-tube - Live Stream Video Chat : 0\n",
      "Miitomo : 23965\n",
      "SoundCloud Pulse: for creators : 240\n",
      "IAmNaughty – Dating App to Meet New People Online : 463\n",
      "League of Legends Friends : 420\n",
      "GhostCodes - a discovery app for Snapchat : 1313\n",
      "live.ly - live video streaming : 4145\n",
      "Live.me – Live Video Chat & Make Friends Nearby : 14724\n",
      "BOO! - Video chat camera with filters & stickers : 1805\n",
      "Google Allo — smart messaging : 862\n",
      "Google Duo - simple video calling : 1033\n",
      "Chat for Whatsapp - iPad Version : 5060\n",
      "Chat for Pokemon Go - GoChat : 500\n",
      "niconico ch : 0\n",
      "Followers Analytics for Instagram - InstaReport : 13914\n",
      "Monkey : 3060\n",
      "LINE BLOG : 0\n",
      "Mustknow - anonymous video Q&A : 53\n",
      "CTFxCmoji : 39\n",
      "Fam — Group video calling for iMessage : 279\n"
     ]
    }
   ],
   "source": [
    "for app in ios_eng_free:\n",
    "    if app[12] == 'Social Networking':\n",
    "        print(app[2], ':', app[6])"
   ]
  },
  {
   "cell_type": "markdown",
   "metadata": {},
   "source": [
    "A very skewed distribution, with Facebook dominating.  However, we will stick with our strategy due to our hunches about psychological \"ripeness\" for users of social networks\n",
    "\n",
    "---\n",
    "\n",
    "For Android, we need to investigate the Installs column"
   ]
  },
  {
   "cell_type": "code",
   "execution_count": 122,
   "metadata": {},
   "outputs": [
    {
     "name": "stdout",
     "output_type": "stream",
     "text": [
      "1,000,000+ : 15.73\n",
      "100,000+ : 11.55\n",
      "10,000,000+ : 10.55\n",
      "10,000+ : 10.2\n",
      "1,000+ : 8.39\n",
      "100+ : 6.92\n",
      "5,000,000+ : 6.83\n",
      "500,000+ : 5.56\n",
      "50,000+ : 4.77\n",
      "5,000+ : 4.51\n",
      "10+ : 3.54\n",
      "500+ : 3.25\n",
      "50,000,000+ : 2.3\n",
      "100,000,000+ : 2.13\n",
      "50+ : 1.92\n",
      "5+ : 0.79\n",
      "1+ : 0.51\n",
      "500,000,000+ : 0.27\n",
      "1,000,000,000+ : 0.23\n",
      "0+ : 0.05\n",
      "0 : 0.01\n"
     ]
    }
   ],
   "source": [
    "display_table(android_eng_free, 5)"
   ]
  },
  {
   "cell_type": "markdown",
   "metadata": {},
   "source": [
    "These will be more difficult to take an average of.  We will use str.replace() to strip out the plus sign at the end.  After that, we will just average on the range number shown (even though a number like 100,000+ could have been 989,424, which would essentially be nearly in the 1,000,000 bin)."
   ]
  },
  {
   "cell_type": "code",
   "execution_count": 125,
   "metadata": {},
   "outputs": [
    {
     "name": "stdout",
     "output_type": "stream",
     "text": [
      "ART_AND_DESIGN :  1986335.0\n",
      "AUTO_AND_VEHICLES :  647318.0\n",
      "BEAUTY :  513152.0\n",
      "BOOKS_AND_REFERENCE :  8767812.0\n",
      "BUSINESS :  1712290.0\n",
      "COMICS :  817657.0\n",
      "COMMUNICATION :  38456119.0\n",
      "DATING :  854029.0\n",
      "EDUCATION :  1833495.0\n",
      "ENTERTAINMENT :  11640706.0\n",
      "EVENTS :  253542.0\n",
      "FINANCE :  1387692.0\n",
      "FOOD_AND_DRINK :  1924898.0\n",
      "HEALTH_AND_FITNESS :  4188822.0\n",
      "HOUSE_AND_HOME :  1331541.0\n",
      "LIBRARIES_AND_DEMO :  638504.0\n",
      "LIFESTYLE :  1437816.0\n",
      "GAME :  15588016.0\n",
      "FAMILY :  3695642.0\n",
      "MEDICAL :  120551.0\n",
      "SOCIAL :  23253652.0\n",
      "SHOPPING :  7036877.0\n",
      "PHOTOGRAPHY :  17840110.0\n",
      "SPORTS :  3638640.0\n",
      "TRAVEL_AND_LOCAL :  13984078.0\n",
      "TOOLS :  10801391.0\n",
      "PERSONALIZATION :  5201483.0\n",
      "PRODUCTIVITY :  16787331.0\n",
      "PARENTING :  542604.0\n",
      "WEATHER :  5074486.0\n",
      "VIDEO_PLAYERS :  24727872.0\n",
      "NEWS_AND_MAGAZINES :  9549178.0\n",
      "MAPS_AND_NAVIGATION :  4056942.0\n"
     ]
    }
   ],
   "source": [
    "android_categories = freq_table(android_eng_free, 1)\n",
    "\n",
    "for key in android_categories:\n",
    "    total = 0\n",
    "    len_genre = 0\n",
    "    for app in android_eng_free:\n",
    "        category = app[1]\n",
    "        if category == key:\n",
    "            n_installs = app[5]\n",
    "            n_installs = n_installs.replace('+','')\n",
    "            n_installs = n_installs.replace(',','')\n",
    "            total += float(n_installs)\n",
    "            len_genre += 1\n",
    "    avg_count_of_ratings = round(total / len_genre,0)\n",
    "    print(key, ': ', avg_count_of_ratings)"
   ]
  },
  {
   "cell_type": "markdown",
   "metadata": {},
   "source": [
    "Here we can see that COMMUNICATION is very dominant with 38,456,119 estimated installs. But SOCAL isn't too bad at 23,253,652. Let's see what these apps could are on the Android platform:"
   ]
  },
  {
   "cell_type": "code",
   "execution_count": 127,
   "metadata": {},
   "outputs": [
    {
     "name": "stdout",
     "output_type": "stream",
     "text": [
      "Facebook : 1,000,000,000+\n",
      "Facebook Lite : 500,000,000+\n",
      "Tumblr : 100,000,000+\n",
      "Social network all in one 2018 : 100,000+\n",
      "Pinterest : 100,000,000+\n",
      "TextNow - free text + calls : 10,000,000+\n",
      "Google+ : 1,000,000,000+\n",
      "The Messenger App : 1,000,000+\n",
      "Messenger Pro : 1,000,000+\n",
      "Free Messages, Video, Chat,Text for Messenger Plus : 1,000,000+\n",
      "Telegram X : 5,000,000+\n",
      "The Video Messenger App : 100,000+\n",
      "Jodel - The Hyperlocal App : 1,000,000+\n",
      "Hide Something - Photo, Video : 5,000,000+\n",
      "Love Sticker : 1,000,000+\n",
      "Web Browser & Fast Explorer : 5,000,000+\n",
      "LiveMe - Video chat, new friends, and make money : 10,000,000+\n",
      "VidStatus app - Status Videos & Status Downloader : 5,000,000+\n",
      "Love Images : 1,000,000+\n",
      "Web Browser ( Fast & Secure Web Explorer) : 500,000+\n",
      "SPARK - Live random video chat & meet new people : 5,000,000+\n",
      "Golden telegram : 50,000+\n",
      "Facebook Local : 1,000,000+\n",
      "Meet – Talk to Strangers Using Random Video Chat : 5,000,000+\n",
      "MobilePatrol Public Safety App : 1,000,000+\n",
      "💘 WhatsLov: Smileys of love, stickers and GIF : 1,000,000+\n",
      "HTC Social Plugin - Facebook : 10,000,000+\n",
      "Quora : 10,000,000+\n",
      "Kate Mobile for VK : 10,000,000+\n",
      "Family GPS tracker KidControl + GPS by SMS Locator : 1,000,000+\n",
      "Moment : 1,000,000+\n",
      "Text Me: Text Free, Call Free, Second Phone Number : 10,000,000+\n",
      "Text Free: WiFi Calling App : 5,000,000+\n",
      "Badoo - Free Chat & Dating App : 100,000,000+\n",
      "Text free - Free Text + Call : 10,000,000+\n",
      "Tango - Live Video Broadcast : 100,000,000+\n",
      "ooVoo Video Calls, Messaging & Stories : 50,000,000+\n",
      "Whisper : 5,000,000+\n",
      "Blogger : 5,000,000+\n",
      "Bloglovin' : 500,000+\n",
      "Blogaway for Android (Blogger) : 100,000+\n",
      "Instagram : 1,000,000,000+\n",
      "TwitCasting Live : 1,000,000+\n",
      "Stream - Live Video Community : 500,000+\n",
      "YouNow: Live Stream Video Chat : 10,000,000+\n",
      "Mirrativ: Live Stream Any App : 500,000+\n",
      "Snapchat : 500,000,000+\n",
      "Banjo : 1,000,000+\n",
      "We Heart It : 10,000,000+\n",
      "MeetMe: Chat & Meet New People : 50,000,000+\n",
      "Timehop : 5,000,000+\n",
      "Frontback - Social Photos : 1,000,000+\n",
      "LinkedIn : 100,000,000+\n",
      "Path : 10,000,000+\n",
      "SayHi Chat, Meet New People : 10,000,000+\n",
      "Tapatalk - 100,000+ Forums : 10,000,000+\n",
      "Couple - Relationship App : 1,000,000+\n",
      "Nextdoor - Local neighborhood news & classifieds : 5,000,000+\n",
      "LOVOO : 10,000,000+\n",
      "Jaumo Dating, Flirt & Live Video : 10,000,000+\n",
      "Patook - make platonic friends : 100,000+\n",
      "Zello PTT Walkie Talkie : 50,000,000+\n",
      "textPlus: Free Text & Calls : 10,000,000+\n",
      "magicApp Calling & Messaging : 10,000,000+\n",
      "Dating App, Flirt & Chat : W-Match : 10,000,000+\n",
      "uCiC- Videos and Photos on demand : 100,000+\n",
      "Meetup : 5,000,000+\n",
      "POF Free Dating App : 50,000,000+\n",
      "Tagged - Meet, Chat & Dating : 10,000,000+\n",
      "SKOUT - Meet, Chat, Go Live : 50,000,000+\n",
      "Mico- Stranger Chat Random video Chat, Live, Meet : 10,000,000+\n",
      "Waplog - Free Chat, Dating App, Meet Singles : 10,000,000+\n",
      "Tik Tok - including musical.ly : 100,000,000+\n",
      "B-Messenger Video Chat : 1,000,000+\n",
      "BIGO LIVE - Live Stream : 100,000,000+\n",
      "Greeting Cards & Wishes : 500,000+\n",
      "Share G - Images Sharing - Wallpapers App : 10,000+\n",
      "H letter images : 1,000+\n",
      "Instachat 😜 : 5,000,000+\n",
      "Fame Boom for Real Followers, Likes : 5,000,000+\n",
      "FollowMeter for Instagram : 1,000,000+\n",
      "Mali J : 10,000+\n",
      "KDRAMA Amino for K-Drama Fans : 100,000+\n",
      "KPOP Amino for K-Pop Entertainment : 100,000+\n",
      "EXO-L Amino for EXO Fans : 50,000+\n",
      "Verdad o Reto : 500,000+\n",
      "pixiv : 1,000,000+\n",
      "Join R, Community Engagement : 1,000+\n",
      "U LIVE – Video Chat & Stream : 1,000,000+\n",
      "See U - Random video chat, video chat : 100,000+\n",
      "What U See : 100,000+\n",
      "U-Report : 10,000+\n",
      "Meet U - Get Friends for Snapchat, Kik & Instagram : 100,000+\n",
      "VMate Lite - Funny Short Videos Social Network : 1,000,000+\n",
      "V Bucks ProTips New : 1,000+\n",
      "i-share AF/KLM (AFKL ishare) : 100+\n",
      "Eternal Light AG : 100+\n",
      "Message AI - Write Better Messages (Free) : 100+\n",
      "Jamaa Amino for Animal Jam : 10,000+\n",
      "Legend - Animate Text in Video : 10,000,000+\n",
      "GUYZ - Gay Chat & Gay Dating : 1,000,000+\n",
      "eChallan Andhra Pradesh (AP) : 1,000+\n",
      "Snaappy – 3D fun AR core communication platform : 1,000,000+\n",
      "Undertale AU Amino : 50,000+\n",
      "Au Pair : 10,000+\n",
      "Media Sosial TNI AU : 1,000+\n",
      "BA 3 Banjarmasin : 10+\n",
      "iCard BD Plus : 500+\n",
      "Movement BE : 100+\n",
      "YAY - TBH : 100,000+\n",
      "Find My Friends : 10,000,000+\n",
      "BG LINKED (BGLINKED) : 1,000+\n",
      "Zdravei.BG : 1,000+\n",
      "BGKontakti London BG Kontakti : 500+\n",
      "BGKontakti Bayern BG Kontakti : 1,000+\n",
      "BGKontakti Vienna BG Kontakti : 1,000+\n",
      "Discípulos em BH : 100+\n",
      "BH Connect : 1+\n",
      "Gayvox - Gay Lesbian Bi Dating : 500,000+\n",
      "Grindr - Gay chat : 10,000,000+\n",
      "Lesbian Chat & Dating - SPICY : 1,000,000+\n",
      "Alumni BJ : 100+\n",
      "VK : 100,000,000+\n",
      "BK Traffic Control cum Chart : 10,000+\n",
      "Daily Murli Saar Widget : 10,000+\n",
      "Myjob@BM : 100+\n",
      "bm-Events : 10+\n",
      "BOO! - Next Generation Messenger : 1,000,000+\n",
      "Wishbone - Compare Anything : 1,000,000+\n",
      "BR Chat Bot : 1,000+\n",
      "Br Browser : 500+\n",
      "Dr B R Ambedkar (Jai Bhim) : 100,000+\n",
      "Dr. B.R.Ambedkar : 100,000+\n",
      "Black Social : 1,000+\n",
      "BT Communicator : 10,000+\n",
      "BT Dating -Find your match, help cupid, be social : 50,000+\n",
      "Fiesta by Tango - Find, Meet and Make New Friends : 1,000,000+\n",
      "Evasion.bz : 100+\n",
      "CB Heroes : 5+\n",
      "CG Districts : 1,000+\n",
      "Digi-TV.ch : 10,000+\n",
      "Students.ch : 1,000+\n",
      "CJ Gospel Hour : 100+\n",
      "Pekalongan CJ : 0+\n",
      "Hashtags For Likes.co : 50,000+\n",
      "CP Dialer : 50,000+\n",
      "C.P. CERVANTES (TOBARRA) : 5+\n",
      "Cyprus Police : 10,000+\n",
      "Rande.cz : 50,000+\n",
      "signály.cz : 1,000+\n",
      "DB Event App : 5,000+\n",
      "DC Comics Amino : 1,000+\n",
      "DF BugMeNot : 500+\n",
      "Noticias DF : 1,000+\n",
      "Periscope - Live Video : 10,000,000+\n",
      "Daddyhunt: Gay Dating : 500,000+\n",
      "Free phone calls, free texting SMS on free number : 10,000,000+\n",
      "Phone Tracker : Family Locator : 10,000,000+\n",
      "HOLLA Live: Meet New People via Random Video Chat : 5,000,000+\n",
      "Dating.dk : 100,000+\n",
      "DK Murali : 500+\n",
      "GirlTalk.dk : 100+\n",
      "+Download 4 Instagram Twitter : 1,000,000+\n",
      "DM Me - Chat : 10,000+\n",
      "DM for IG 😘 - Image & Video Saver for Instagram : 5,000+\n",
      "Auto DM for Twitter 🔥 : 1,000+\n",
      "DM Storage (for twitter) : 100+\n",
      "Fake Chat (Direct Message) : 500,000+\n",
      "Otto DM : 10+\n",
      "DN Blog : 10+\n",
      "DP and Status for WhatsApp 2018 : 100,000+\n",
      "Dp For Whatsapp : 5,000+\n",
      "Profile Pictures and DP for Whatsapp : 5,000+\n",
      "Dp for Facebook : 5,000+\n",
      "Best DP and Status : 10,000+\n",
      "Instant DP Downloader for Instagram : 5,000+\n",
      "DP Display Pictures Life Quotes Motivational GM : 5,000+\n",
      "Qeek for Instagram - Zoom profile insta DP : 500,000+\n",
      "DV Statistics : 100+\n",
      "DW Streaming : 1,000+\n",
      "News Dz : 10+\n",
      "quran-DZ : 10+\n",
      "TN e Sevai TN EB Bill Patta Citta EC Birth All Hub : 5,000+\n",
      "TNEB Bill Online Payment (Tamil) : 5,000+\n",
      "UP EB Bill Payment & Details : 50+\n",
      "TN EC Online New : 1,000+\n",
      "TN Patta /Chitta /EC New : 100+\n",
      "EG Way Life : 50+\n",
      "Equestria Amino for MLP : 50,000+\n",
      "Ek Maratha : 10,000+\n",
      "Hum Ek Hain 2.02 : 10+\n",
      "Sabka Malik Ek Sai : 1,000+\n",
      "EO RAIPUR : 10+\n",
      "Anime et Manga Amino en Français : 50,000+\n",
      "Hornet - Gay Social Network : 5,000,000+\n",
      "Amino: Communities and Chats : 10,000,000+\n",
      "European Solidarity Corps : 1,000+\n",
      "Reisedealz.eu : 10+\n",
      "Eddsworld Amino : 10,000+\n",
      "Rejoin Your Ex : 100+\n",
      "Amleen Ey : 1+\n",
      "Coupe Adhémar EY 2017 : 50+\n",
      "EZ Video Download for Facebook : 1,000,000+\n",
      "Messages, Text and Video Chat for Messenger : 10,000,000+\n",
      "All Social Networks : 1,000,000+\n",
      "Messenger Messenger : 10,000,000+\n",
      "Facebook Creator : 1,000,000+\n",
      "Swift for Facebook Lite : 500,000+\n",
      "Friendly for Facebook : 1,000,000+\n",
      "Faster for Facebook Lite : 1,000,000+\n",
      "Puffin for Facebook : 500,000+\n",
      "Profile Tracker - Who Viewed My Facebook Profile : 500,000+\n",
      "Pink Color for Facebook : 500,000+\n",
      "Messenger : 10,000,000+\n",
      "Stickers for Imo, fb, whatsapp : 10,000+\n",
      "Who Viewed My Facebook Profile - Stalkers Visitors : 5,000,000+\n",
      "Downloader plus for FB : 500+\n",
      "MB Notifications for FB (Free) : 100,000+\n",
      "Phoenix - Facebook & Messenger : 100,000+\n",
      "Faster Social for Facebook : 100,000+\n",
      "Check Your Visitors on FB ? : 5,000+\n",
      "Stickers for Facebook : 1,000,000+\n",
      "Lite Messenger for Facebook Lite : 10,000+\n",
      "Mini for Facebook lite : 10,000+\n",
      "FB Advanced Search : 50+\n",
      "funny Image Comments for FB : 5,000+\n",
      "Unlimited Group Links - Whatsapp, FB, Telegram : 10,000+\n",
      "FCB Connect - FC Barcelona : 50,000+\n",
      "Frases Cristianas de Esperanza y Fe : 100+\n",
      "FutureNet your social app : 100,000+\n",
      "Alarm.fo – choose your info : 1,000+\n",
      "FunForMobile Ringtones & Chat : 5,000,000+\n",
      "Chat For Strangers - Video Chat : 100,000+\n",
      "Fr Daoud Lamei : 100,000+\n",
      "Naruto & Boruto FR : 100+\n",
      "Frim: get new friends on local chat rooms : 5,000,000+\n"
     ]
    }
   ],
   "source": [
    "for app in android_eng_free:\n",
    "    if app[1] == 'SOCIAL':\n",
    "        print(app[0], ':', app[5])"
   ]
  },
  {
   "cell_type": "markdown",
   "metadata": {},
   "source": [
    "Again Facebook is dominant, however there are some others that started launched recently like Tik Tok in 2017 and Nextoor in 2008 (and have already grown to 100,000,000+ and 5,000,000+ respectively).  Social Networking may also have some niche's left to explore."
   ]
  },
  {
   "cell_type": "markdown",
   "metadata": {},
   "source": [
    "### Conclusion:\n",
    "After cleaning up the data, creating frequency tables and analyzing the number of downloads and average number of users, we feel like the best strategy of app development is to launch a social networking app. We will have to be careful not to go head to head with big players and carve out our own niche. As we stated earlier, we will launch an MVP on Google Play.  If it shows promise, we will add more features and DevOps features and hopefully launch in the Apple Store."
   ]
  }
 ],
 "metadata": {
  "kernelspec": {
   "display_name": "Python 3",
   "language": "python",
   "name": "python3"
  },
  "language_info": {
   "codemirror_mode": {
    "name": "ipython",
    "version": 3
   },
   "file_extension": ".py",
   "mimetype": "text/x-python",
   "name": "python",
   "nbconvert_exporter": "python",
   "pygments_lexer": "ipython3",
   "version": "3.7.6"
  }
 },
 "nbformat": 4,
 "nbformat_minor": 4
}
